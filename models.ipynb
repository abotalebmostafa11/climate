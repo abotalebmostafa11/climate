{
 "cells": [
  {
   "cell_type": "code",
   "execution_count": 1,
   "id": "controlled-secondary",
   "metadata": {},
   "outputs": [],
   "source": [
    "import numpy as np\n",
    "import pandas as pd\n",
    "import warnings\n",
    "import datetime\n",
    "import matplotlib.pyplot as plt\n",
    "import itertools\n",
    "import torch\n",
    "import statsmodels.api as sm\n",
    "import matplotlib.pyplot as plt\n",
    "import torch.nn.functional as F\n",
    "#from statsmodels.tsa.arima_model import ARIMA\n",
    "from statsmodels.tsa.arima.model import ARIMA\n",
    "from statsmodels.graphics.tsaplots import plot_acf\n",
    "from statsmodels.graphics.tsaplots import plot_pacf\n",
    "from statsmodels.tsa.seasonal import seasonal_decompose\n",
    "from sklearn.metrics import mean_squared_error, mean_absolute_error,mean_absolute_percentage_error,mean_squared_log_error\n",
    "from torch import nn\n",
    "%matplotlib inline\n",
    "from torch.autograd import Variable\n",
    "from torch.utils.data import Dataset,DataLoader,TensorDataset\n",
    "from sklearn.preprocessing import MinMaxScaler\n",
    "from sklearn.metrics import r2_score"
   ]
  },
  {
   "cell_type": "code",
   "execution_count": 41,
   "id": "extended-operation",
   "metadata": {},
   "outputs": [
    {
     "name": "stdout",
     "output_type": "stream",
     "text": [
      "            Date  Cases\n",
      "0     22.01.2020      0\n",
      "1     23.01.2020      0\n",
      "2     24.01.2020      0\n",
      "3     25.01.2020      0\n",
      "4     26.01.2020      0\n",
      "...          ...    ...\n",
      "1029  16.11.2022    635\n",
      "1030  17.11.2022   -568\n",
      "1031  18.11.2022   1781\n",
      "1032  19.11.2022    492\n",
      "1033  20.11.2022    406\n",
      "\n",
      "[1034 rows x 2 columns]\n"
     ]
    }
   ],
   "source": [
    "# data processing For ARIMA\n",
    "raw_data = pd.read_csv('Data.csv')\n",
    "print(raw_data)\n",
    "data_name = 'Covid-19 infection cases in India'\n"
   ]
  },
  {
   "cell_type": "code",
   "execution_count": 3,
   "id": "6667e514",
   "metadata": {},
   "outputs": [],
   "source": [
    "\n",
    "train_len = 828"
   ]
  },
  {
   "cell_type": "code",
   "execution_count": 4,
   "id": "soviet-merit",
   "metadata": {},
   "outputs": [
    {
     "name": "stdout",
     "output_type": "stream",
     "text": [
      "1025\n",
      "198\n",
      "tensor([[0.0029],\n",
      "        [0.0029],\n",
      "        [0.0029],\n",
      "        [0.0029],\n",
      "        [0.0029],\n",
      "        [0.0029],\n",
      "        [0.0029],\n",
      "        [0.0029]]) tensor([0.0029])\n",
      "tensor([[0.0029],\n",
      "        [0.0029],\n",
      "        [0.0029],\n",
      "        [0.0029],\n",
      "        [0.0029],\n",
      "        [0.0029],\n",
      "        [0.0029],\n",
      "        [0.0029]]) tensor([0.0029])\n"
     ]
    }
   ],
   "source": [
    "ARIMA_close_prices = raw_data['Cases'].values.astype(float)\n",
    "#len(sp500_close_prices)\n",
    "\n",
    "def create_sequences(data, seq_length):\n",
    "    x = []\n",
    "    y = []\n",
    "\n",
    "    for i in range(len(data)-seq_length-1):\n",
    "        _x = data[i:(i+seq_length)]\n",
    "        _y = data[i+seq_length]\n",
    "        x.append(_x)\n",
    "        y.append(_y)\n",
    "\n",
    "    return np.array(x),np.array(y)\n",
    "\n",
    "#Data normalization\n",
    "scaler = MinMaxScaler()\n",
    "training_data = scaler.fit_transform(ARIMA_close_prices.reshape(-1,1))\n",
    "\n",
    "seq_length = 8\n",
    "x, y = create_sequences(training_data, seq_length)\n",
    "\n",
    "train_size = int(0.8*train_len)\n",
    "validate_size = int(0.2*train_len)   # set by hand\n",
    "\n",
    "test_size = len(y) - train_size - validate_size\n",
    "print(len(y))\n",
    "print(test_size)\n",
    "\n",
    "dataX = torch.Tensor(np.array(x))\n",
    "dataY = torch.Tensor(np.array(y))\n",
    "\n",
    "X_train = torch.Tensor(np.array(x[0:train_size]))\n",
    "Y_train = torch.Tensor(np.array(y[0:train_size]))\n",
    "\n",
    "training_dataset = TensorDataset(X_train,Y_train)\n",
    "train_loader = DataLoader(training_dataset, num_workers=1, shuffle=True,batch_size = 64,drop_last = True)\n",
    "\n",
    "X_validate = torch.Tensor(np.array(x[train_size:train_size+validate_size]))\n",
    "Y_validate = torch.Tensor(np.array(y[train_size:train_size+validate_size]))\n",
    "\n",
    "validate_dataset = TensorDataset(X_validate,Y_validate)\n",
    "validate_loader = DataLoader(validate_dataset, num_workers=1, shuffle=True,batch_size = 64,drop_last = True)\n",
    "\n",
    "X_test = torch.Tensor(np.array(x[train_size+validate_size:len(x)]))\n",
    "Y_test = torch.Tensor(np.array(y[train_size+validate_size:len(y)]))\n",
    "print(X_train[0],Y_train[0])\n",
    "print(X_train[1],Y_train[1])"
   ]
  },
  {
   "cell_type": "code",
   "execution_count": 5,
   "id": "joint-cooper",
   "metadata": {},
   "outputs": [],
   "source": [
    "class AttnDecoder(nn.Module):\n",
    "\n",
    "    def __init__(self, code_hidden_size, hidden_size, time_step):\n",
    "        super(AttnDecoder, self).__init__()\n",
    "        self.code_hidden_size = code_hidden_size\n",
    "        self.hidden_size = hidden_size\n",
    "        self.T = time_step\n",
    "\n",
    "        self.W = nn.Linear(in_features=2 * hidden_size, out_features=code_hidden_size)\n",
    "        self.U = nn.Linear(in_features=code_hidden_size, out_features=code_hidden_size)\n",
    "        self.tanh = nn.Tanh()\n",
    "        self.V = nn.Linear(in_features=code_hidden_size, out_features=1)\n",
    "        self.lstm = nn.LSTM(input_size=1, hidden_size=self.hidden_size)\n",
    "        self.tilde = nn.Linear(in_features=self.code_hidden_size + 1, out_features=1)\n",
    "        self.fc1 = nn.Linear(in_features=code_hidden_size + hidden_size, out_features=hidden_size)\n",
    "        self.fc2 = nn.Linear(in_features=hidden_size, out_features=1)\n",
    "\n",
    "    def forward(self, encoder_output, y_seq, d , s):\n",
    "        y_seq = y_seq.transpose(0,1)  #   1*64*1 -->64*1*1\n",
    "        encoder_output = encoder_output.transpose(0,1)  # [8, 64, 16]->[64, 8, 16]\n",
    "\n",
    "        # (seq_len, batch,  hidden_size):    \n",
    "        batch_size = encoder_output.size(0)  \n",
    "#         d = self.init_variable(1, batch_size, self.hidden_size)#. [1, 64, 16]\n",
    "#         s = self.init_variable(1, batch_size, self.hidden_size)\n",
    "        \n",
    "        ct = self.init_variable(batch_size, self.hidden_size)    # [64, 16]\n",
    "        \n",
    "        for t in range(self.T):\n",
    "            # batch_size * time_step * (encoder_hidden_size + decoder_hidden_size)\n",
    "            # [time_step, 64, 16] ->[64 , tstep, 16] \n",
    "          \n",
    "            h = encoder_output  # [64, 8, 16]\n",
    "            d_s = torch.cat((self.embedding_hidden(d), self.embedding_hidden(s)), 2)    # [64 , 1, 16*2]\n",
    "            z1 = self.W(d_s)  # [64 ,1, 16*2]-> [64 , 1, 16]\n",
    "            z2 = self.U(h)  # [64, 8, 16]->[64, 8, 16]\n",
    "            x = z1 + z2  # [64, 1, 16] + [64, 8, 16] = [64, 8, 16]\n",
    "            z3 = self.V(self.tanh(x))   #   [64, 8, 16]->[64, 8, 1]\n",
    "\n",
    "            beta_t = F.softmax(z3.view(batch_size, -1), dim=1)\n",
    "            # yc 64*1*1\n",
    "            # h [64, 8, 16]\n",
    "\n",
    "            # [64, 1, 8] * [64, 8, 16] = [64, 1, 16] -> [64, 16]   batch_size * encoder_hidden_size\n",
    "            ct = torch.bmm(beta_t.unsqueeze(1), h).squeeze(1)  # [64, 16]\n",
    "            \n",
    "            y_past = y_seq[:,t,:] # [64, 1]\n",
    "            yc = torch.cat((y_past, ct), dim=1)  \n",
    "            y_tilde = self.tilde(yc)\n",
    "            _, states = self.lstm(y_tilde.unsqueeze(0), (d, s))    # [1, 64, 1]  [1, 64, 16]\n",
    "            d = states[0]\n",
    "            \n",
    "        y_res = self.fc2(self.fc1(torch.cat((d.squeeze(0), ct), dim=1)))\n",
    "        return y_res\n",
    "\n",
    "    def init_variable(self, *args):\n",
    "        zero_tensor = torch.zeros(args)\n",
    "        if torch.cuda.is_available():\n",
    "            zero_tensor = zero_tensor.cuda()\n",
    "        return Variable(zero_tensor)\n",
    "\n",
    "    def embedding_hidden(self, x):\n",
    "        return x.repeat(self.T, 1, 1).permute(1, 0, 2)\n",
    "\n",
    "    \n",
    "class Encoder(nn.Module):\n",
    "    \n",
    "    def __init__(self, input_size, hidden_size,num_layers):\n",
    "        super().__init__()\n",
    "        \n",
    "        self.input_size = input_size\n",
    "        self.hidden_size = hidden_size\n",
    "        self.num_layers = num_layers\n",
    "\n",
    "        self.lstm = nn.LSTM(input_size, hidden_size,num_layers)\n",
    "\n",
    "        \n",
    "    def forward(self, x):\n",
    "\n",
    "        \n",
    "        # Propagate input through LSTM\n",
    "      \n",
    "        output, (hidden_out, cell_out) = self.lstm(x)\n",
    "        \n",
    "        return output, (hidden_out, cell_out)\n",
    "    \n",
    "    \n",
    "class Decoder(nn.Module):\n",
    "    \n",
    "    def __init__(self, input_size, hidden_size,num_layers):\n",
    "        super().__init__()\n",
    "        \n",
    "        self.input_size = input_size\n",
    "        self.hidden_size = hidden_size\n",
    "        self.num_layers = num_layers\n",
    "  \n",
    "        self.lstm = nn.LSTM(input_size, hidden_size,num_layers)\n",
    "        \n",
    "        \n",
    "    def forward(self,x,hidden,cell):\n",
    "        \n",
    "        \n",
    "     \n",
    "        output, (hidden_out, cell_out) = self.lstm(x, (hidden, cell))\n",
    "        \n",
    "        return output, (hidden_out, cell_out)\n",
    "\n",
    "class Seq2Seq(nn.Module):\n",
    "    def __init__(self,input_size,hidden_size,num_layers,out_dims,attention_flag = False):\n",
    "        super().__init__()\n",
    "        self.attention_flag = attention_flag\n",
    "        self.encoder = Encoder(input_size,hidden_size,num_layers)\n",
    "        if self.attention_flag == True:\n",
    "            self.decoder = AttnDecoder(hidden_size, hidden_size, 1)\n",
    "        if self.attention_flag == False:\n",
    "            self.decoder = Decoder(input_size,hidden_size,num_layers)\n",
    "\n",
    "        self.fc = nn.Linear(hidden_size, out_dims)\n",
    "        \n",
    "        \n",
    "    def forward(self, enc_input, dec_input):\n",
    "        \n",
    "        encoder_output,(h_out,c_out) = self.encoder(enc_input)  # torch.Size([64, 8, 1])\n",
    "\n",
    "        #dec_input [64, 1, 1]     \n",
    "        # h_out  [1, 64, 16]\n",
    "        \n",
    "        if self.attention_flag == True:\n",
    "            y_res = self.decoder(encoder_output, dec_input,h_out,c_out)\n",
    "        if self.attention_flag == False:\n",
    "            _, (decoder_h_out, _) = self.decoder(dec_input,h_out,c_out)\n",
    "            y_res = self.fc(decoder_h_out)\n",
    "\n",
    "       \n",
    "        return y_res"
   ]
  },
  {
   "cell_type": "code",
   "execution_count": 28,
   "id": "blind-lighting",
   "metadata": {},
   "outputs": [
    {
     "data": {
      "text/plain": [
       "Seq2Seq(\n",
       "  (encoder): Encoder(\n",
       "    (lstm): LSTM(1, 32)\n",
       "  )\n",
       "  (decoder): Decoder(\n",
       "    (lstm): LSTM(1, 32)\n",
       "  )\n",
       "  (fc): Linear(in_features=32, out_features=1, bias=True)\n",
       ")"
      ]
     },
     "execution_count": 28,
     "metadata": {},
     "output_type": "execute_result"
    }
   ],
   "source": [
    "num_epochs = 100\n",
    "learning_rate = 0.005\n",
    "input_dim = 1\n",
    "hidden_size = 32\n",
    "num_layers = 1\n",
    "output_dim = 1\n",
    "output_length = 1\n",
    "attention_flag = False\n",
    "\n",
    "model = Seq2Seq(input_dim,hidden_size,num_layers,output_dim,attention_flag)\n",
    "\n",
    "#model = simpleLSTM(num_classes, input_size, hidden_size, num_layers)\n",
    "# model = Seq2Seq_model(input_dim, hidden_size,num_layers)\n",
    "criterion = torch.nn.MSELoss()    # mean-squared error\n",
    "optimizer = torch.optim.Adam(model.parameters(), lr=learning_rate)\n",
    "model"
   ]
  },
  {
   "cell_type": "code",
   "execution_count": 29,
   "id": "nuclear-founder",
   "metadata": {},
   "outputs": [
    {
     "name": "stderr",
     "output_type": "stream",
     "text": [
      "c:\\Users\\Amr\\AppData\\Local\\Programs\\Python\\Python39\\lib\\site-packages\\torch\\nn\\modules\\loss.py:520: UserWarning: Using a target size (torch.Size([64, 1])) that is different to the input size (torch.Size([1, 64, 1])). This will likely lead to incorrect results due to broadcasting. Please ensure they have the same size.\n",
      "  return F.mse_loss(input, target, reduction=self.reduction)\n"
     ]
    },
    {
     "name": "stdout",
     "output_type": "stream",
     "text": [
      "Epoch: 0, train_loss: 0.05241,validate_loss: 0.03841\n",
      "Epoch: 1, train_loss: 0.01980,validate_loss: 0.02810\n",
      "Epoch: 2, train_loss: 0.00287,validate_loss: 0.00686\n",
      "Epoch: 3, train_loss: 0.00202,validate_loss: 0.00721\n",
      "Epoch: 4, train_loss: 0.00107,validate_loss: 0.00561\n",
      "Epoch: 5, train_loss: 0.00232,validate_loss: 0.00733\n",
      "Epoch: 6, train_loss: 0.00152,validate_loss: 0.00372\n",
      "Epoch: 7, train_loss: 0.00119,validate_loss: 0.00516\n",
      "Epoch: 8, train_loss: 0.00176,validate_loss: 0.00481\n",
      "Epoch: 9, train_loss: 0.00096,validate_loss: 0.00673\n",
      "Epoch: 10, train_loss: 0.00138,validate_loss: 0.00344\n",
      "Epoch: 11, train_loss: 0.00090,validate_loss: 0.00381\n",
      "Epoch: 12, train_loss: 0.00192,validate_loss: 0.00437\n",
      "Epoch: 13, train_loss: 0.00048,validate_loss: 0.00286\n",
      "Epoch: 14, train_loss: 0.00124,validate_loss: 0.00379\n",
      "Epoch: 15, train_loss: 0.00036,validate_loss: 0.00273\n",
      "Epoch: 16, train_loss: 0.00096,validate_loss: 0.00421\n",
      "Epoch: 17, train_loss: 0.00094,validate_loss: 0.00228\n",
      "Epoch: 18, train_loss: 0.00098,validate_loss: 0.00324\n",
      "Epoch: 19, train_loss: 0.00053,validate_loss: 0.00217\n",
      "Epoch: 20, train_loss: 0.00034,validate_loss: 0.00418\n",
      "Epoch: 21, train_loss: 0.00065,validate_loss: 0.00268\n",
      "Epoch: 22, train_loss: 0.00023,validate_loss: 0.00200\n",
      "Epoch: 23, train_loss: 0.00032,validate_loss: 0.00248\n",
      "Epoch: 24, train_loss: 0.00052,validate_loss: 0.00146\n",
      "Epoch: 25, train_loss: 0.00101,validate_loss: 0.00097\n",
      "Epoch: 26, train_loss: 0.00062,validate_loss: 0.00215\n",
      "Epoch: 27, train_loss: 0.00016,validate_loss: 0.00152\n",
      "Epoch: 28, train_loss: 0.00058,validate_loss: 0.00139\n",
      "Epoch: 29, train_loss: 0.00031,validate_loss: 0.00154\n",
      "Epoch: 30, train_loss: 0.00028,validate_loss: 0.00264\n",
      "Epoch: 31, train_loss: 0.00043,validate_loss: 0.00204\n",
      "Epoch: 32, train_loss: 0.00081,validate_loss: 0.00138\n",
      "Epoch: 33, train_loss: 0.00049,validate_loss: 0.00122\n",
      "Epoch: 34, train_loss: 0.00054,validate_loss: 0.00218\n",
      "Epoch: 35, train_loss: 0.00063,validate_loss: 0.00170\n",
      "Epoch: 36, train_loss: 0.00068,validate_loss: 0.00146\n",
      "Epoch: 37, train_loss: 0.00022,validate_loss: 0.00108\n",
      "Epoch: 38, train_loss: 0.00056,validate_loss: 0.00105\n",
      "Epoch: 39, train_loss: 0.00057,validate_loss: 0.00134\n",
      "Epoch: 40, train_loss: 0.00033,validate_loss: 0.00167\n",
      "Epoch: 41, train_loss: 0.00021,validate_loss: 0.00084\n",
      "Epoch: 42, train_loss: 0.00037,validate_loss: 0.00136\n",
      "Epoch: 43, train_loss: 0.00040,validate_loss: 0.00140\n",
      "Epoch: 44, train_loss: 0.00046,validate_loss: 0.00112\n",
      "Epoch: 45, train_loss: 0.00036,validate_loss: 0.00119\n",
      "Epoch: 46, train_loss: 0.00050,validate_loss: 0.00145\n",
      "Epoch: 47, train_loss: 0.00030,validate_loss: 0.00127\n",
      "Epoch: 48, train_loss: 0.00074,validate_loss: 0.00145\n",
      "Epoch: 49, train_loss: 0.00060,validate_loss: 0.00188\n",
      "Epoch: 50, train_loss: 0.00040,validate_loss: 0.00152\n",
      "Epoch: 51, train_loss: 0.00067,validate_loss: 0.00123\n",
      "Epoch: 52, train_loss: 0.00040,validate_loss: 0.00097\n",
      "Epoch: 53, train_loss: 0.00022,validate_loss: 0.00098\n",
      "Epoch: 54, train_loss: 0.00037,validate_loss: 0.00161\n",
      "Epoch: 55, train_loss: 0.00044,validate_loss: 0.00084\n",
      "Epoch: 56, train_loss: 0.00036,validate_loss: 0.00107\n",
      "Epoch: 57, train_loss: 0.00038,validate_loss: 0.00081\n",
      "Epoch: 58, train_loss: 0.00113,validate_loss: 0.00176\n",
      "Epoch: 59, train_loss: 0.00017,validate_loss: 0.00169\n",
      "Epoch: 60, train_loss: 0.00065,validate_loss: 0.00101\n",
      "Epoch: 61, train_loss: 0.00032,validate_loss: 0.00117\n",
      "Epoch: 62, train_loss: 0.00067,validate_loss: 0.00106\n",
      "Epoch: 63, train_loss: 0.00040,validate_loss: 0.00109\n",
      "Epoch: 64, train_loss: 0.00032,validate_loss: 0.00071\n",
      "Epoch: 65, train_loss: 0.00056,validate_loss: 0.00133\n",
      "Epoch: 66, train_loss: 0.00030,validate_loss: 0.00113\n",
      "Epoch: 67, train_loss: 0.00020,validate_loss: 0.00048\n",
      "Epoch: 68, train_loss: 0.00025,validate_loss: 0.00087\n",
      "Epoch: 69, train_loss: 0.00051,validate_loss: 0.00109\n",
      "Epoch: 70, train_loss: 0.00044,validate_loss: 0.00089\n",
      "Epoch: 71, train_loss: 0.00029,validate_loss: 0.00121\n",
      "Epoch: 72, train_loss: 0.00032,validate_loss: 0.00103\n",
      "Epoch: 73, train_loss: 0.00042,validate_loss: 0.00057\n",
      "Epoch: 74, train_loss: 0.00068,validate_loss: 0.00119\n",
      "Epoch: 75, train_loss: 0.00025,validate_loss: 0.00089\n",
      "Epoch: 76, train_loss: 0.00021,validate_loss: 0.00050\n",
      "Epoch: 77, train_loss: 0.00053,validate_loss: 0.00115\n",
      "Epoch: 78, train_loss: 0.00050,validate_loss: 0.00115\n",
      "Epoch: 79, train_loss: 0.00049,validate_loss: 0.00070\n",
      "Epoch: 80, train_loss: 0.00042,validate_loss: 0.00061\n",
      "Epoch: 81, train_loss: 0.00034,validate_loss: 0.00145\n",
      "Epoch: 82, train_loss: 0.00035,validate_loss: 0.00128\n",
      "Epoch: 83, train_loss: 0.00043,validate_loss: 0.00101\n",
      "Epoch: 84, train_loss: 0.00041,validate_loss: 0.00117\n",
      "Epoch: 85, train_loss: 0.00029,validate_loss: 0.00064\n",
      "Epoch: 86, train_loss: 0.00018,validate_loss: 0.00114\n",
      "Epoch: 87, train_loss: 0.00026,validate_loss: 0.00111\n",
      "Epoch: 88, train_loss: 0.00056,validate_loss: 0.00076\n",
      "Epoch: 89, train_loss: 0.00035,validate_loss: 0.00131\n",
      "Epoch: 90, train_loss: 0.00018,validate_loss: 0.00082\n",
      "Epoch: 91, train_loss: 0.00041,validate_loss: 0.00085\n",
      "Epoch: 92, train_loss: 0.00023,validate_loss: 0.00137\n",
      "Epoch: 93, train_loss: 0.00031,validate_loss: 0.00087\n",
      "Epoch: 94, train_loss: 0.00057,validate_loss: 0.00096\n",
      "Epoch: 95, train_loss: 0.00017,validate_loss: 0.00114\n",
      "Epoch: 96, train_loss: 0.00027,validate_loss: 0.00099\n",
      "Epoch: 97, train_loss: 0.00019,validate_loss: 0.00104\n",
      "Epoch: 98, train_loss: 0.00025,validate_loss: 0.00125\n",
      "Epoch: 99, train_loss: 0.00038,validate_loss: 0.00077\n"
     ]
    }
   ],
   "source": [
    "# Train the model\n",
    "history = {}\n",
    "history['accuracy'] = []\n",
    "history['val_accuracy'] = []\n",
    "history['loss'] = []\n",
    "history['val_loss'] = []\n",
    "for epoch in range(num_epochs):\n",
    "    epoch_loss, epoch_val_loss = 0, 0\n",
    "    for data in train_loader:\n",
    "        X_train,Y_train = data\n",
    "        Y_train = Y_train.unsqueeze(0)\n",
    "\n",
    "        model.train()\n",
    "        # decoder 的输入\n",
    "        decoder_input = torch.zeros(64,1,1).transpose(0,1)\n",
    "\n",
    "        #decoder_input = X_train[:,-1,:].unsqueeze(1)\n",
    "        train_pred = model(X_train.transpose(0,1), decoder_input)\n",
    "        \n",
    "        # obtain the loss function\n",
    "        train_loss = criterion(train_pred, Y_train)\n",
    "        train_loss.backward(retain_graph=True) #backpropagation\n",
    "        optimizer.step()\n",
    "        optimizer.zero_grad()\n",
    "\n",
    "        model.eval()\n",
    "        \n",
    "        for valdiate_data in validate_loader:\n",
    "            X_validate,Y_validate = valdiate_data\n",
    "            #decoder_input = X_validate[:,-1,:].unsqueeze(1)\n",
    "            validate_pred =  model(X_validate.transpose(0,1),decoder_input)\n",
    "            validate_loss = criterion(validate_pred,Y_validate)\n",
    "            epoch_loss += float(train_loss)\n",
    "            epoch_val_loss += float(validate_loss)\n",
    "    # history['accuracy'].append(torch.sum((train_pred.squeeze() > 0.5) == Y_train.squeeze()) / len(train_pred.squeeze()))\n",
    "    # history['val_accuracy'].append(torch.sum((validate_pred.squeeze() > 0.5) == Y_validate.squeeze()) / len(validate_pred.squeeze()))\n",
    "\n",
    "    history['loss'].append(epoch_loss)\n",
    "    history['val_loss'].append(epoch_val_loss)\n",
    "    if epoch % 1 == 0:\n",
    "        print(\"Epoch: %d, train_loss: %1.5f,validate_loss: %1.5f\" % (epoch, train_loss,validate_loss))"
   ]
  },
  {
   "cell_type": "code",
   "execution_count": 30,
   "id": "395334f6",
   "metadata": {},
   "outputs": [],
   "source": [
    "decoder_input = torch.zeros(64,1,1).transpose(0,1)\n",
    "\n",
    "#decoder_input = X_train[:,-1,:].unsqueeze(1)\n",
    "train_pred = model(X_train.transpose(0,1), decoder_input)"
   ]
  },
  {
   "cell_type": "code",
   "execution_count": 31,
   "id": "6363420c",
   "metadata": {},
   "outputs": [
    {
     "data": {
      "text/plain": [
       "torch.Size([1, 64, 1])"
      ]
     },
     "execution_count": 31,
     "metadata": {},
     "output_type": "execute_result"
    }
   ],
   "source": [
    "decoder_input.shape"
   ]
  },
  {
   "cell_type": "code",
   "execution_count": 32,
   "metadata": {},
   "outputs": [
    {
     "data": {
      "text/plain": [
       "torch.Size([8, 64, 1])"
      ]
     },
     "execution_count": 32,
     "metadata": {},
     "output_type": "execute_result"
    }
   ],
   "source": [
    "X_train.transpose(0,1).shape"
   ]
  },
  {
   "cell_type": "code",
   "execution_count": 33,
   "id": "65013eab",
   "metadata": {},
   "outputs": [
    {
     "data": {
      "text/plain": [
       "==========================================================================================\n",
       "Layer (type:depth-idx)                   Output Shape              Param #\n",
       "==========================================================================================\n",
       "Seq2Seq                                  [1, 8, 1]                 --\n",
       "├─Encoder: 1-1                           [64, 8, 32]               --\n",
       "│    └─LSTM: 2-1                         [64, 8, 32]               4,480\n",
       "├─Decoder: 1-2                           [64, 8, 32]               --\n",
       "│    └─LSTM: 2-2                         [64, 8, 32]               4,480\n",
       "├─Linear: 1-3                            [1, 8, 1]                 33\n",
       "==========================================================================================\n",
       "Total params: 8,993\n",
       "Trainable params: 8,993\n",
       "Non-trainable params: 0\n",
       "Total mult-adds (M): 4.59\n",
       "==========================================================================================\n",
       "Input size (MB): 0.00\n",
       "Forward/backward pass size (MB): 0.26\n",
       "Params size (MB): 0.04\n",
       "Estimated Total Size (MB): 0.30\n",
       "=========================================================================================="
      ]
     },
     "execution_count": 33,
     "metadata": {},
     "output_type": "execute_result"
    }
   ],
   "source": [
    "from torchinfo import summary\n",
    "summary(model, input_size=[(64, 8, 1), (64, 8, 1)])\n"
   ]
  },
  {
   "cell_type": "code",
   "execution_count": 52,
   "id": "a09ca38d",
   "metadata": {},
   "outputs": [
    {
     "data": {
      "image/png": "[encoded data removed]",
      "text/plain": [
       "<Figure size 1440x288 with 1 Axes>"
      ]
     },
     "metadata": {
      "needs_background": "light"
     },
     "output_type": "display_data"
    }
   ],
   "source": [
    "fig = plt.figure(figsize=(20,4))\n",
    "plt.plot(history['loss'])\n",
    "plt.plot(history['val_loss'])\n",
    "plt.title('model train vs validation loss using (encoder-decoder)LSTM')\n",
    "plt.ylabel('loss')\n",
    "plt.xlabel('epoch')\n",
    "plt.legend(['train', 'validation'], loc='upper right')\n",
    "plt.grid()\n",
    "plt.show()\n",
    "fig.savefig('plot train and validation loss.png', dpi=fig.dpi, facecolor='white', bbox_inches='tight')"
   ]
  },
  {
   "cell_type": "code",
   "execution_count": 45,
   "id": "great-laugh",
   "metadata": {},
   "outputs": [],
   "source": [
    "# save model\n",
    "save_path = 'models/{}_lstm_model.zip'.format(data_name)\n",
    "torch.save(model, save_path)"
   ]
  },
  {
   "cell_type": "code",
   "execution_count": 65,
   "id": "activated-equipment",
   "metadata": {},
   "outputs": [
    {
     "name": "stdout",
     "output_type": "stream",
     "text": [
      "1025\n"
     ]
    },
    {
     "data": {
      "image/png": "[encoded data removed]",
      "text/plain": [
       "<Figure size 936x216 with 1 Axes>"
      ]
     },
     "metadata": {
      "needs_background": "light"
     },
     "output_type": "display_data"
    },
    {
     "name": "stdout",
     "output_type": "stream",
     "text": [
      "X_test MSE: 10733871.0\n",
      "X_test MAE: 1721.1739501953125\n",
      "X_test MAPE:766314650.0%\n",
      "R-Squared: 0.7745660042194789\n",
      "X_test RMSE: 3276.2587890625\n",
      "X_test RRMSE: 57.23861312866211\n"
     ]
    }
   ],
   "source": [
    "# load model\n",
    "save_path = 'models/{}_lstm_model.zip'.format(data_name)\n",
    "model = torch.load(save_path)\n",
    "model.eval()\n",
    "train_predict = model(dataX.transpose(0,1),torch.zeros(1,dataX.size(0),1))\n",
    "#print(train_predict.size(),dataY.size())\n",
    "print(len(train_predict[0]))\n",
    "train_predict = train_predict.squeeze(0)\n",
    "data_predict = train_predict.data.numpy()\n",
    "\n",
    "dataY_plot = dataY.data.numpy()\n",
    "\n",
    "data_predict = scaler.inverse_transform(data_predict)\n",
    "dataY_plot = scaler.inverse_transform(dataY_plot)\n",
    "import warnings\n",
    "from plotly.offline import init_notebook_mode, iplot\n",
    "import plotly.figure_factory as ff\n",
    "import cufflinks\n",
    "import plotly.io as pio \n",
    "plt.figure(figsize=(13, 3))\n",
    "plt.axvline(x=train_len, c='r', linestyle='--')\n",
    "\n",
    "plt.plot(dataY_plot, label = data_name + ' ' + \"LSTM actual value\")\n",
    "x = np.arange(train_len, train_len + len(raw_data)-train_len-seq_length-1)\n",
    "plt.plot(x, data_predict[train_len:],label = data_name + ' ' + \"LSTM predicted value\")\n",
    "plt.suptitle(data_name + ' ' + '(encoder-decoder) LSTM  Forecasting')\n",
    "plt.ylabel('Infection cases')\n",
    "plt.xlabel('Time in days')\n",
    "plt.legend()\n",
    "plt.grid(True)\n",
    "plt.show()\n",
    "from sklearn.metrics import mean_squared_error\n",
    "from sklearn.metrics import mean_absolute_error\n",
    "mse = mean_squared_error(dataY_plot[(train_size+validate_size):], data_predict[(train_size+validate_size):])   # 5500  \n",
    "mae = mean_absolute_error(dataY_plot[(train_size+validate_size):], data_predict[(train_size+validate_size):])\n",
    "mape = mean_absolute_percentage_error(dataY_plot[(train_size+validate_size):], data_predict[(train_size+validate_size):])*100\n",
    "#rmsle = np.sqrt(mean_squared_log_error(dataY_plot[(train_size+validate_size):], data_predict[(train_size+validate_size):]))\n",
    "r2_Squared = r2_score(dataY_plot[(train_size+validate_size):], data_predict[(train_size+validate_size):])\n",
    "rmse = np.sqrt(mse)\n",
    "rrmse= np.sqrt(rmse)\n",
    "\n",
    "\n",
    "\n",
    "print(f'X_test MSE: {mse}')\n",
    "print(f'X_test MAE: {mae}')\n",
    "print('X_test MAPE:{}%'.format(mape))\n",
    "#print(f'X_test RMSLE: {rmsle}')\n",
    "print(f'R-Squared: {r2_Squared}')\n",
    "print(f'X_test RMSE: {rmse}')\n",
    "print(f'X_test RRMSE: {rrmse}')"
   ]
  },
  {
   "cell_type": "code",
   "execution_count": 37,
   "id": "ff459c3b",
   "metadata": {},
   "outputs": [
    {
     "data": {
      "text/plain": [
       "array([[0.00199278],\n",
       "       [0.00199425],\n",
       "       [0.00199331],\n",
       "       ...,\n",
       "       [0.00323898],\n",
       "       [0.00152388],\n",
       "       [0.0044679 ]], dtype=float32)"
      ]
     },
     "execution_count": 37,
     "metadata": {},
     "output_type": "execute_result"
    }
   ],
   "source": [
    "train_predict.data.numpy()"
   ]
  },
  {
   "cell_type": "code",
   "execution_count": 66,
   "id": "dried-interest",
   "metadata": {},
   "outputs": [
    {
     "data": {
      "image/png": "[encoded data removed]",
      "text/plain": [
       "<Figure size 936x216 with 1 Axes>"
      ]
     },
     "metadata": {
      "needs_background": "light"
     },
     "output_type": "display_data"
    }
   ],
   "source": [
    "plt.figure(figsize=(13, 3))\n",
    "plt.plot(dataY_plot[(train_size+validate_size):], label = data_name + ' ' + \"actual value\")\n",
    "plt.plot(data_predict[(train_size+validate_size):], label = data_name + ' ' + \"predicted value\")\n",
    "plt.suptitle(data_name + ' ' + 'Forecasting using (encoder-decoder)LSTM ')\n",
    "plt.ylabel('Infection cases')\n",
    "plt.xlabel('Time in days')\n",
    "plt.legend()\n",
    "plt.grid(True)\n",
    "plt.show()\n"
   ]
  }
 ],
 "metadata": {
  "kernelspec": {
   "display_name": "Python 3.9.0 64-bit",
   "language": "python",
   "name": "python3"
  },
  "language_info": {
   "codemirror_mode": {
    "name": "ipython",
    "version": 3
   },
   "file_extension": ".py",
   "mimetype": "text/x-python",
   "name": "python",
   "nbconvert_exporter": "python",
   "pygments_lexer": "ipython3",
   "version": "3.9.0"
  },
  "vscode": {
   "interpreter": {
    "hash": "cd5fdc0f79246e1f09ed212d41bc90cd0ac3c4fd2160c131721ee127b87dbfff"
   }
  }
 },
 "nbformat": 4,
 "nbformat_minor": 5
}
